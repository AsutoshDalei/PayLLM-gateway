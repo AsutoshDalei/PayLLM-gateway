{
 "cells": [
  {
   "cell_type": "markdown",
   "id": "9c915c8b-8e32-4870-bdaf-aa6118a70f96",
   "metadata": {},
   "source": [
    "# Testing out Local LLMs"
   ]
  },
  {
   "cell_type": "code",
   "execution_count": 49,
   "id": "9d25a7e3-d464-477f-9c07-417f6fd62be7",
   "metadata": {},
   "outputs": [],
   "source": [
    "from langchain_ollama import ChatOllama\n",
    "from langchain_core.tools import tool\n",
    "from langchain_core.messages import AIMessage, HumanMessage, SystemMessage"
   ]
  },
  {
   "cell_type": "code",
   "execution_count": 94,
   "id": "844092bb-1bd2-4037-baaf-5ed9f413838a",
   "metadata": {},
   "outputs": [],
   "source": [
    "# Loading the model\n",
    "# llm = ChatOllama(model=\"llama3.2:1b\", temperature=0)\n",
    "llm = ChatOllama(model=\"llama3.2\", temperature=0)"
   ]
  },
  {
   "cell_type": "code",
   "execution_count": 95,
   "id": "9d955cf4-be35-4075-b37d-3ea3c2772731",
   "metadata": {},
   "outputs": [
    {
     "data": {
      "text/plain": [
       "AIMessage(content=\"That's awesome! Programming can be such a rewarding and exciting field. What aspect of programming do you enjoy the most? Are you into web development, mobile app development, game development, or something else?\\n\\nAre you working on any current projects or learning new skills? I'd be happy to help with any questions or provide guidance if you need it!\", additional_kwargs={}, response_metadata={'model': 'llama3.2', 'created_at': '2025-02-09T16:22:39.855284Z', 'done': True, 'done_reason': 'stop', 'total_duration': 2459226375, 'load_duration': 34460333, 'prompt_eval_count': 37, 'prompt_eval_duration': 175000000, 'eval_count': 71, 'eval_duration': 1952000000, 'message': Message(role='assistant', content='', images=None, tool_calls=None)}, id='run-efeb762b-7545-444c-b545-d2622d1860af-0', usage_metadata={'input_tokens': 37, 'output_tokens': 71, 'total_tokens': 108})"
      ]
     },
     "execution_count": 95,
     "metadata": {},
     "output_type": "execute_result"
    }
   ],
   "source": [
    "messages = [\n",
    "    (\"system\",\"You are a helpful assistant. be kind\"),\n",
    "    (\"human\", \"I love programming.\")\n",
    "]\n",
    "ai_msg = llm.invoke(messages)\n",
    "ai_msg"
   ]
  },
  {
   "cell_type": "markdown",
   "id": "94ce8425-ee02-4c78-afb8-e0a206f795fe",
   "metadata": {},
   "source": [
    "## Testing Tools"
   ]
  },
  {
   "cell_type": "markdown",
   "id": "2ae52d71-5e10-4665-9499-9f2f21833d05",
   "metadata": {},
   "source": [
    "### Calculator Tools"
   ]
  },
  {
   "cell_type": "code",
   "execution_count": 96,
   "id": "1556dfef-a5f2-4ef0-afde-693a75ff0184",
   "metadata": {},
   "outputs": [],
   "source": [
    "@tool\n",
    "def add(a: int, b: int) -> int:\n",
    "    \"\"\"Add (+) two numbers\"\"\"\n",
    "    return a+b\n",
    "    \n",
    "@tool\n",
    "def sub(a: int, b: int) -> int:\n",
    "    \"\"\"Subtract (-) two numbers\"\"\"\n",
    "    return a-b\n",
    "    \n",
    "@tool\n",
    "def mul(a: int, b: int) -> int:\n",
    "    \"\"\"Multiply (*, x) two numbers\"\"\"\n",
    "    return a*b\n",
    "    \n",
    "@tool\n",
    "def div(a: int, b: int) -> int:\n",
    "    \"\"\"Divide (/) two numbers\"\"\"\n",
    "    return a/b\n",
    "\n",
    "@tool\n",
    "def fetchUserDets(name: str) -> str:\n",
    "    \"\"\"Function to fetch user details. Input is name of the user. Output relevant details.\"\"\"\n",
    "    hmap = \n",
    "\n",
    "\n",
    "\n",
    "tools = [mul, div, add, sub]\n",
    "toolsMap = {'add':add, \"sub\":sub, \"mul\":mul, \"div\":div}\n",
    "\n",
    "llmTools = llm.bind_tools(tools)\n"
   ]
  },
  {
   "cell_type": "code",
   "execution_count": null,
   "id": "1c0cdbb0-94b7-4241-a71f-996319510ae7",
   "metadata": {},
   "outputs": [],
   "source": []
  },
  {
   "cell_type": "code",
   "execution_count": 97,
   "id": "c77b6c9a-6435-468e-b793-1e7b0f703e8c",
   "metadata": {},
   "outputs": [
    {
     "data": {
      "text/plain": [
       "AIMessage(content='', additional_kwargs={}, response_metadata={'model': 'llama3.2', 'created_at': '2025-02-09T16:22:45.238612Z', 'done': True, 'done_reason': 'stop', 'total_duration': 2493522667, 'load_duration': 34284000, 'prompt_eval_count': 353, 'prompt_eval_duration': 1196000000, 'eval_count': 44, 'eval_duration': 1260000000, 'message': Message(role='assistant', content='', images=None, tool_calls=None)}, id='run-511fc21e-5a1f-4c26-bd69-ff9c6447e0ac-0', tool_calls=[{'name': 'mul', 'args': {'a': 3, 'b': 12}, 'id': '18b31735-3258-47ef-be47-c04c90940ef3', 'type': 'tool_call'}, {'name': 'sub', 'args': {'a': 11, 'b': 49}, 'id': '52eed424-4aca-4677-ae23-ab4a4e914c7f', 'type': 'tool_call'}], usage_metadata={'input_tokens': 353, 'output_tokens': 44, 'total_tokens': 397})"
      ]
     },
     "execution_count": 97,
     "metadata": {},
     "output_type": "execute_result"
    }
   ],
   "source": [
    "query = \"Add 3 and 4?\"\n",
    "query = \"What is 3 multiplied 12? Also, what is 11 + 49?\"\n",
    "\n",
    "# llmTools.invoke(query).tool_calls\n",
    "\n",
    "messages = [\n",
    "    (\"system\",\"You are a helpful assistant. be kind\"),\n",
    "    (\"human\", \"Tell me the answer to 3 * 12? Also, what is 11 - 49?\")\n",
    "]\n",
    "ai_msg = llmTools.invoke(messages)\n",
    "messages.append(ai_msg)\n",
    "ai_msg"
   ]
  },
  {
   "cell_type": "code",
   "execution_count": 98,
   "id": "9b2d74fa-2cd2-480f-8b64-107c5b25dcd0",
   "metadata": {},
   "outputs": [
    {
     "data": {
      "text/plain": [
       "[{'name': 'mul',\n",
       "  'args': {'a': 3, 'b': 12},\n",
       "  'id': '18b31735-3258-47ef-be47-c04c90940ef3',\n",
       "  'type': 'tool_call'},\n",
       " {'name': 'sub',\n",
       "  'args': {'a': 11, 'b': 49},\n",
       "  'id': '52eed424-4aca-4677-ae23-ab4a4e914c7f',\n",
       "  'type': 'tool_call'}]"
      ]
     },
     "execution_count": 98,
     "metadata": {},
     "output_type": "execute_result"
    }
   ],
   "source": [
    "ai_msg.tool_calls"
   ]
  },
  {
   "cell_type": "code",
   "execution_count": 99,
   "id": "75446aba-e14a-4498-88fe-100b5ed65215",
   "metadata": {},
   "outputs": [
    {
     "data": {
      "text/plain": [
       "[('system', 'You are a helpful assistant. be kind'),\n",
       " ('human', 'Tell me the answer to 3 * 12? Also, what is 11 - 49?'),\n",
       " AIMessage(content='', additional_kwargs={}, response_metadata={'model': 'llama3.2', 'created_at': '2025-02-09T16:22:45.238612Z', 'done': True, 'done_reason': 'stop', 'total_duration': 2493522667, 'load_duration': 34284000, 'prompt_eval_count': 353, 'prompt_eval_duration': 1196000000, 'eval_count': 44, 'eval_duration': 1260000000, 'message': Message(role='assistant', content='', images=None, tool_calls=None)}, id='run-511fc21e-5a1f-4c26-bd69-ff9c6447e0ac-0', tool_calls=[{'name': 'mul', 'args': {'a': 3, 'b': 12}, 'id': '18b31735-3258-47ef-be47-c04c90940ef3', 'type': 'tool_call'}, {'name': 'sub', 'args': {'a': 11, 'b': 49}, 'id': '52eed424-4aca-4677-ae23-ab4a4e914c7f', 'type': 'tool_call'}], usage_metadata={'input_tokens': 353, 'output_tokens': 44, 'total_tokens': 397})]"
      ]
     },
     "execution_count": 99,
     "metadata": {},
     "output_type": "execute_result"
    }
   ],
   "source": [
    "messages"
   ]
  },
  {
   "cell_type": "code",
   "execution_count": 100,
   "id": "f0e11b63-9d16-4ad8-9c9c-17f4e1893d4e",
   "metadata": {},
   "outputs": [
    {
     "data": {
      "text/plain": [
       "[('system', 'You are a helpful assistant. be kind'),\n",
       " ('human', 'Tell me the answer to 3 * 12? Also, what is 11 - 49?'),\n",
       " AIMessage(content='', additional_kwargs={}, response_metadata={'model': 'llama3.2', 'created_at': '2025-02-09T16:22:45.238612Z', 'done': True, 'done_reason': 'stop', 'total_duration': 2493522667, 'load_duration': 34284000, 'prompt_eval_count': 353, 'prompt_eval_duration': 1196000000, 'eval_count': 44, 'eval_duration': 1260000000, 'message': Message(role='assistant', content='', images=None, tool_calls=None)}, id='run-511fc21e-5a1f-4c26-bd69-ff9c6447e0ac-0', tool_calls=[{'name': 'mul', 'args': {'a': 3, 'b': 12}, 'id': '18b31735-3258-47ef-be47-c04c90940ef3', 'type': 'tool_call'}, {'name': 'sub', 'args': {'a': 11, 'b': 49}, 'id': '52eed424-4aca-4677-ae23-ab4a4e914c7f', 'type': 'tool_call'}], usage_metadata={'input_tokens': 353, 'output_tokens': 44, 'total_tokens': 397}),\n",
       " ToolMessage(content='36', name='mul', tool_call_id='18b31735-3258-47ef-be47-c04c90940ef3'),\n",
       " ToolMessage(content='-38', name='sub', tool_call_id='52eed424-4aca-4677-ae23-ab4a4e914c7f')]"
      ]
     },
     "execution_count": 100,
     "metadata": {},
     "output_type": "execute_result"
    }
   ],
   "source": [
    "for toolCall in ai_msg.tool_calls:\n",
    "    toolSelected = toolsMap[toolCall['name']]\n",
    "    toolMsg = toolSelected.invoke(toolCall)\n",
    "    messages.append(toolMsg)\n",
    "    \n",
    "messages"
   ]
  },
  {
   "cell_type": "code",
   "execution_count": 101,
   "id": "17aa6318-8cc8-4256-9683-81acf6dc2b68",
   "metadata": {},
   "outputs": [],
   "source": [
    "ai_msg = llmTools.invoke(messages)"
   ]
  },
  {
   "cell_type": "code",
   "execution_count": 102,
   "id": "5513aaf5-cfbf-4ee0-b14a-a9d21318949e",
   "metadata": {},
   "outputs": [
    {
     "name": "stdout",
     "output_type": "stream",
     "text": [
      "The result of 3 * 12 is 36.\n",
      "\n",
      "The result of 11 - 49 is -38.\n"
     ]
    }
   ],
   "source": [
    "print(ai_msg.content)"
   ]
  },
  {
   "cell_type": "code",
   "execution_count": 103,
   "id": "fc85ddc1-4f89-4a8d-b8d4-a35f39677769",
   "metadata": {},
   "outputs": [
    {
     "data": {
      "text/plain": [
       "AIMessage(content='The result of 3 * 12 is 36.\\n\\nThe result of 11 - 49 is -38.', additional_kwargs={}, response_metadata={'model': 'llama3.2', 'created_at': '2025-02-09T16:22:46.287369Z', 'done': True, 'done_reason': 'stop', 'total_duration': 1003138333, 'load_duration': 15522583, 'prompt_eval_count': 137, 'prompt_eval_duration': 308000000, 'eval_count': 25, 'eval_duration': 677000000, 'message': Message(role='assistant', content='The result of 3 * 12 is 36.\\n\\nThe result of 11 - 49 is -38.', images=None, tool_calls=None)}, id='run-e1ae229c-3f85-42d0-8898-b30d25765170-0', usage_metadata={'input_tokens': 137, 'output_tokens': 25, 'total_tokens': 162})"
      ]
     },
     "execution_count": 103,
     "metadata": {},
     "output_type": "execute_result"
    }
   ],
   "source": [
    "ai_msg"
   ]
  },
  {
   "cell_type": "code",
   "execution_count": 105,
   "id": "afd6eab1-dcee-4fbf-996f-79c503343156",
   "metadata": {},
   "outputs": [
    {
     "name": "stdout",
     "output_type": "stream",
     "text": [
      "The result of 3 * 12 is 36.\n",
      "\n",
      "The result of 11 - 49 is -38.\n"
     ]
    }
   ],
   "source": [
    "print(ai_msg.content)"
   ]
  },
  {
   "cell_type": "code",
   "execution_count": null,
   "id": "d55a504f-7695-474c-9308-63e2d730b7a8",
   "metadata": {},
   "outputs": [],
   "source": []
  },
  {
   "cell_type": "markdown",
   "id": "802134be-f20a-4a53-96e7-9799f1b4e651",
   "metadata": {},
   "source": [
    "---"
   ]
  },
  {
   "cell_type": "code",
   "execution_count": null,
   "id": "647913ff-0048-4abe-a09c-62b4324f980a",
   "metadata": {},
   "outputs": [],
   "source": []
  }
 ],
 "metadata": {
  "kernelspec": {
   "display_name": "Python 3 (ipykernel)",
   "language": "python",
   "name": "python3"
  },
  "language_info": {
   "codemirror_mode": {
    "name": "ipython",
    "version": 3
   },
   "file_extension": ".py",
   "mimetype": "text/x-python",
   "name": "python",
   "nbconvert_exporter": "python",
   "pygments_lexer": "ipython3",
   "version": "3.9.6"
  }
 },
 "nbformat": 4,
 "nbformat_minor": 5
}
